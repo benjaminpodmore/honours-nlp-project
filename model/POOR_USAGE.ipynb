{
 "cells": [
  {
   "cell_type": "code",
   "execution_count": 1,
   "metadata": {
    "collapsed": true,
    "pycharm": {
     "name": "#%%\n"
    }
   },
   "outputs": [
    {
     "name": "stderr",
     "output_type": "stream",
     "text": [
      "Some weights of BertModel were not initialized from the model checkpoint at SpanBERT/spanbert-base-cased and are newly initialized: ['bert.pooler.dense.bias', 'bert.pooler.dense.weight']\n",
      "You should probably TRAIN this model on a down-stream task to be able to use it for predictions and inference.\n"
     ]
    }
   ],
   "source": [
    "from trainer import Trainer\n",
    "from model import CorefScorer\n",
    "from loader import train_corpus, val_corpus\n",
    "import torch\n",
    "\n",
    "model = CorefScorer()\n",
    "trainer = Trainer(model=model, train_corpus=train_corpus, val_corpus=val_corpus, batch_size=15, lr=1e-3)\n",
    "trainer.load_model('model_weights/2022-03-07 17-19-03.pth')"
   ]
  },
  {
   "cell_type": "code",
   "execution_count": 2,
   "outputs": [],
   "source": [
    "import pandas as pd\n",
    "import numpy as np"
   ],
   "metadata": {
    "collapsed": false,
    "pycharm": {
     "name": "#%%\n"
    }
   }
  },
  {
   "cell_type": "code",
   "execution_count": 3,
   "outputs": [],
   "source": [
    "from spacy.lang.en import English\n",
    "from text import Document\n",
    "nlp = English()"
   ],
   "metadata": {
    "collapsed": false,
    "pycharm": {
     "name": "#%%\n"
    }
   }
  },
  {
   "cell_type": "code",
   "execution_count": 5,
   "outputs": [
    {
     "name": "stdout",
     "output_type": "stream",
     "text": [
      "The King threw out his servant. He was going crazy.\n",
      "A Prob 3.93009941035416e-06\n",
      "B Prob 0.00014720961917191744\n",
      "Prob Diff 0.0001432795252185315\n",
      "tensor([ 4.8215e-09,  6.1489e-10,  1.8499e-12,  5.1744e-08,  5.4665e-04,\n",
      "         9.8013e-06,  7.8699e-09,  3.9301e-06,  1.9752e-12,  5.6154e-10,\n",
      "         4.0224e-06,  1.4721e-04,  7.7486e-09,  1.0432e-07,  3.3031e-10,\n",
      "         5.4049e-08,  8.5505e-07,  3.9474e-06,  3.1723e-06,  1.9916e-08,\n",
      "         1.1291e-08,  3.9216e-08,  3.3028e-05,  5.1005e-09,  3.3236e-10,\n",
      "         1.8148e-05,  3.1632e-10,  9.9923e-01, -1.0000e+10, -1.0000e+10,\n",
      "        -1.0000e+10, -1.0000e+10, -1.0000e+10, -1.0000e+10, -1.0000e+10,\n",
      "        -1.0000e+10, -1.0000e+10, -1.0000e+10, -1.0000e+10, -1.0000e+10,\n",
      "        -1.0000e+10, -1.0000e+10, -1.0000e+10], grad_fn=<SelectBackward0>)\n",
      "27\n",
      "\n",
      "The King gave his servant a ring. He really deserved it.\n",
      "A Prob 8.731723255550605e-08\n",
      "B Prob 4.839689609070774e-07\n",
      "Prob Diff 3.9665172835157136e-07\n",
      "tensor([ 9.2010e-11,  5.0590e-11,  1.7900e-17,  1.3958e-06,  2.9249e-10,\n",
      "         2.8287e-10,  9.8871e-12,  2.1838e-11,  8.7317e-08,  3.8326e-17,\n",
      "         1.7615e-14,  4.8397e-07,  2.7629e-13,  2.4087e-08,  5.5454e-13,\n",
      "         1.5499e-12,  3.3495e-14,  4.4719e-14,  2.6669e-08,  1.6341e-10,\n",
      "         4.6929e-09,  2.8224e-10,  9.4947e-14,  1.7461e-15,  3.6391e-07,\n",
      "         1.2183e-11,  7.7122e-10,  3.4719e-15,  9.5059e-13,  1.4660e-07,\n",
      "         5.5668e-11,  1.1684e-12,  3.3317e-14,  1.0277e-08,  8.2984e-14,\n",
      "         1.0000e+00, -1.0000e+10, -1.0000e+10, -1.0000e+10, -1.0000e+10,\n",
      "        -1.0000e+10, -1.0000e+10, -1.0000e+10, -1.0000e+10, -1.0000e+10,\n",
      "        -1.0000e+10, -1.0000e+10, -1.0000e+10, -1.0000e+10, -1.0000e+10,\n",
      "        -1.0000e+10], grad_fn=<SelectBackward0>)\n",
      "35\n",
      "\n",
      "The man took his friend to the beach. He really enjoyed it.\n",
      "A Prob 3.629053253462189e-07\n",
      "B Prob 4.0150330278265756e-06\n",
      "Prob Diff 3.6521278161671944e-06\n",
      "tensor([ 1.3723e-09,  3.8686e-09,  6.4350e-15,  2.0357e-05,  2.4149e-08,\n",
      "         1.0646e-12,  7.4998e-09,  1.4804e-09,  1.8517e-09,  3.6291e-07,\n",
      "         2.5827e-14,  1.1054e-12,  4.0150e-06,  3.6579e-13,  1.3250e-13,\n",
      "         3.4899e-06,  1.7240e-10,  9.9784e-11,  4.2528e-12,  6.0860e-12,\n",
      "         9.3486e-09,  3.0357e-14,  4.8549e-10,  6.7071e-07,  5.4975e-09,\n",
      "         2.0403e-11,  7.9600e-14,  1.1408e-09,  4.9667e-11,  5.5935e-11,\n",
      "         4.6021e-08,  4.2409e-13,  6.2801e-15,  4.7011e-07,  2.9179e-11,\n",
      "         8.6690e-10,  2.9506e-14,  2.4595e-11,  3.1374e-07,  1.0287e-10,\n",
      "         7.6745e-11,  4.5980e-12,  1.3081e-07,  2.3864e-11,  9.9997e-01,\n",
      "        -1.0000e+10, -1.0000e+10, -1.0000e+10, -1.0000e+10, -1.0000e+10,\n",
      "        -1.0000e+10, -1.0000e+10, -1.0000e+10, -1.0000e+10, -1.0000e+10,\n",
      "        -1.0000e+10, -1.0000e+10, -1.0000e+10, -1.0000e+10, -1.0000e+10],\n",
      "       grad_fn=<SelectBackward0>)\n",
      "44\n",
      "\n",
      "The man and his friend went to the beach. He really enjoyed it.\n",
      "A Prob 1.7909380858327495e-06\n",
      "B Prob 2.374381074332632e-05\n",
      "Prob Diff 2.1952871975372545e-05\n",
      "tensor([ 2.5490e-09,  3.3881e-08,  3.0068e-12,  1.1665e-04,  1.3392e-08,\n",
      "         1.3917e-11,  2.1728e-11,  7.0760e-08,  1.1136e-08,  4.3149e-09,\n",
      "         1.7909e-06,  2.2455e-11,  2.4913e-10,  2.3744e-05,  1.4045e-12,\n",
      "         1.7831e-12,  5.8630e-12,  2.4417e-05,  4.4892e-10,  2.0790e-08,\n",
      "         1.4257e-09,  6.1398e-09,  4.3551e-08,  2.2392e-13,  3.4809e-13,\n",
      "         1.9959e-08,  2.2973e-06,  6.6814e-07,  2.3107e-08,  8.2521e-12,\n",
      "         1.4990e-08,  3.0388e-14,  8.3235e-10,  1.8073e-09,  4.9993e-06,\n",
      "         2.8567e-11,  1.0607e-12,  2.3289e-09,  6.2735e-11,  1.8870e-10,\n",
      "         1.1865e-07,  7.8823e-12,  1.7328e-13,  8.5861e-07,  2.0733e-11,\n",
      "         1.9673e-08,  1.2434e-12,  7.5146e-10,  5.1470e-07,  4.2876e-09,\n",
      "         1.9478e-09,  8.6540e-11,  2.0319e-06,  7.2372e-10,  9.9982e-01,\n",
      "        -1.0000e+10, -1.0000e+10, -1.0000e+10, -1.0000e+10, -1.0000e+10,\n",
      "        -1.0000e+10, -1.0000e+10, -1.0000e+10, -1.0000e+10, -1.0000e+10,\n",
      "        -1.0000e+10, -1.0000e+10, -1.0000e+10, -1.0000e+10, -1.0000e+10],\n",
      "       grad_fn=<SelectBackward0>)\n",
      "54\n",
      "\n",
      "The truck overtook the car. It was driving dangerously.\n",
      "A Prob 1.846906116043101e-06\n",
      "B Prob 3.6759126942342846e-06\n",
      "Prob Diff 1.8290065781911835e-06\n",
      "tensor([ 1.2095e-09,  2.5506e-09,  1.1819e-14,  2.8562e-09,  1.5512e-09,\n",
      "         8.3971e-12,  1.8469e-06,  5.0994e-15,  1.7465e-15,  3.6759e-06,\n",
      "         2.1226e-12,  2.6008e-10,  1.0176e-15,  2.3050e-11,  2.9604e-08,\n",
      "         6.4320e-11,  5.4864e-12,  2.6941e-13,  1.5235e-07,  1.6761e-13,\n",
      "         9.9999e-01, -1.0000e+10, -1.0000e+10, -1.0000e+10, -1.0000e+10,\n",
      "        -1.0000e+10, -1.0000e+10, -1.0000e+10, -1.0000e+10, -1.0000e+10,\n",
      "        -1.0000e+10, -1.0000e+10, -1.0000e+10, -1.0000e+10, -1.0000e+10,\n",
      "        -1.0000e+10], grad_fn=<SelectBackward0>)\n",
      "20\n",
      "\n",
      "The truck raced passed the car. It was driving dangerously.\n",
      "A Prob 1.4610240839374455e-07\n",
      "B Prob 2.365550471949973e-06\n",
      "Prob Diff 2.2194481061887927e-06\n",
      "tensor([ 1.0244e-10,  1.7435e-10,  5.1507e-17,  3.9311e-17,  7.1914e-10,\n",
      "         8.2258e-10,  2.3459e-12,  1.4610e-07,  8.5240e-16,  5.4213e-19,\n",
      "         1.9038e-16,  2.3656e-06,  5.3699e-13,  5.7869e-11,  7.7580e-18,\n",
      "         2.8529e-18,  2.2234e-12,  9.8647e-09,  7.7969e-13,  4.2847e-17,\n",
      "         3.6431e-14,  2.9066e-14,  3.9135e-12,  3.3286e-13,  6.0809e-16,\n",
      "         2.1207e-08,  8.2035e-15,  1.0000e+00, -1.0000e+10, -1.0000e+10,\n",
      "        -1.0000e+10, -1.0000e+10, -1.0000e+10, -1.0000e+10, -1.0000e+10,\n",
      "        -1.0000e+10, -1.0000e+10, -1.0000e+10, -1.0000e+10, -1.0000e+10,\n",
      "        -1.0000e+10, -1.0000e+10, -1.0000e+10], grad_fn=<SelectBackward0>)\n",
      "27\n",
      "\n",
      "The teenagers refused to speak to the owners. They were really rude.\n",
      "A Prob 1.065321626469995e-07\n",
      "B Prob 1.1961239579250105e-05\n",
      "Prob Diff 1.1854707736347336e-05\n",
      "tensor([ 1.2592e-10,  2.9596e-11,  3.5419e-15,  3.8830e-10,  1.8605e-11,\n",
      "         3.5470e-12,  3.0399e-07,  6.9412e-09,  7.4123e-11,  1.0653e-07,\n",
      "         3.0822e-15,  3.0477e-14,  1.6246e-09,  4.5705e-12,  4.0344e-12,\n",
      "         1.1961e-05,  8.4572e-12,  1.2581e-10,  2.6647e-14,  1.2734e-13,\n",
      "         1.9888e-10,  5.6691e-12,  2.8740e-09,  5.7367e-08,  4.3830e-10,\n",
      "         1.3517e-13,  1.6321e-13,  2.1285e-10,  2.6515e-09,  3.4911e-11,\n",
      "         4.6590e-09,  1.8022e-13,  9.7081e-14,  1.1488e-07,  3.8543e-11,\n",
      "         1.5253e-09,  1.3585e-13,  5.0120e-11,  1.8661e-09,  1.5018e-09,\n",
      "         5.1644e-11,  1.4339e-12,  5.1373e-07,  1.5418e-12,  9.9999e-01,\n",
      "        -1.0000e+10, -1.0000e+10, -1.0000e+10, -1.0000e+10, -1.0000e+10,\n",
      "        -1.0000e+10, -1.0000e+10, -1.0000e+10, -1.0000e+10, -1.0000e+10,\n",
      "        -1.0000e+10, -1.0000e+10, -1.0000e+10, -1.0000e+10, -1.0000e+10],\n",
      "       grad_fn=<SelectBackward0>)\n",
      "44\n",
      "\n",
      "The city councilmen refused to talk to the extremists. They were very rude.\n",
      "A Prob 3.2599255064269528e-06\n",
      "B Prob 0.00014308963727671653\n",
      "Prob Diff 0.0001398297172272578\n",
      "tensor([ 4.0144e-10,  1.2995e-10,  1.0570e-08,  4.1625e-12,  5.9090e-09,\n",
      "         8.1221e-10,  5.7874e-11,  2.6692e-07,  3.1756e-06,  2.7824e-11,\n",
      "         1.7671e-09,  5.8681e-07,  3.4784e-12,  5.2153e-12,  5.8781e-08,\n",
      "         2.0422e-11,  4.1499e-12,  1.4309e-04,  1.3746e-10,  3.2599e-06,\n",
      "         2.1233e-10,  5.9466e-12,  7.8726e-12,  1.8575e-09,  1.1404e-12,\n",
      "         2.2297e-08,  4.6159e-07,  6.0446e-08,  3.0646e-10,  4.5166e-12,\n",
      "         1.7331e-12,  1.4528e-10,  6.0507e-09,  6.8357e-10,  3.4627e-08,\n",
      "         3.1096e-10,  2.9486e-12,  8.6708e-14,  5.2796e-07,  2.7165e-10,\n",
      "         7.3091e-08,  2.0530e-10,  1.3641e-13,  5.4194e-10,  2.6718e-08,\n",
      "         2.5543e-08,  1.0994e-11,  5.3756e-10,  2.5070e-11,  2.0176e-09,\n",
      "         4.5767e-08,  3.9038e-11,  2.7534e-06,  2.7783e-09,  9.9985e-01,\n",
      "        -1.0000e+10, -1.0000e+10, -1.0000e+10, -1.0000e+10, -1.0000e+10,\n",
      "        -1.0000e+10, -1.0000e+10, -1.0000e+10, -1.0000e+10, -1.0000e+10,\n",
      "        -1.0000e+10, -1.0000e+10, -1.0000e+10, -1.0000e+10, -1.0000e+10],\n",
      "       grad_fn=<SelectBackward0>)\n",
      "54\n",
      "\n",
      "Paul planned to call George but he was always busy.\n",
      "A Prob 9.978272652588771e-10\n",
      "B Prob 1.080781242279727e-08\n",
      "Prob Diff 9.809984824471485e-09\n",
      "tensor([ 9.9783e-10,  1.6172e-13,  2.4989e-12,  1.5300e-14,  1.0808e-08,\n",
      "         1.0000e+00, -1.0000e+10, -1.0000e+10, -1.0000e+10, -1.0000e+10,\n",
      "        -1.0000e+10, -1.0000e+10, -1.0000e+10, -1.0000e+10, -1.0000e+10,\n",
      "        -1.0000e+10, -1.0000e+10, -1.0000e+10, -1.0000e+10, -1.0000e+10,\n",
      "        -1.0000e+10, -1.0000e+10, -1.0000e+10, -1.0000e+10, -1.0000e+10,\n",
      "        -1.0000e+10, -1.0000e+10, -1.0000e+10, -1.0000e+10, -1.0000e+10,\n",
      "        -1.0000e+10, -1.0000e+10, -1.0000e+10, -1.0000e+10, -1.0000e+10,\n",
      "        -1.0000e+10, -1.0000e+10, -1.0000e+10, -1.0000e+10, -1.0000e+10,\n",
      "        -1.0000e+10, -1.0000e+10, -1.0000e+10, -1.0000e+10, -1.0000e+10,\n",
      "        -1.0000e+10, -1.0000e+10, -1.0000e+10, -1.0000e+10, -1.0000e+10,\n",
      "        -1.0000e+10, -1.0000e+10, -1.0000e+10, -1.0000e+10, -1.0000e+10,\n",
      "        -1.0000e+10, -1.0000e+10, -1.0000e+10, -1.0000e+10, -1.0000e+10,\n",
      "        -1.0000e+10, -1.0000e+10, -1.0000e+10, -1.0000e+10, -1.0000e+10],\n",
      "       grad_fn=<SelectBackward0>)\n",
      "5\n",
      "\n",
      "Paul tried to call George but he was always busy.\n",
      "A Prob 1.4253793700902406e-09\n",
      "B Prob 8.07501621125084e-09\n",
      "Prob Diff 6.6496368411606e-09\n",
      "tensor([ 1.4254e-09,  8.6585e-12,  3.9438e-11,  2.2281e-14,  8.0750e-09,\n",
      "         1.0000e+00, -1.0000e+10, -1.0000e+10, -1.0000e+10, -1.0000e+10,\n",
      "        -1.0000e+10, -1.0000e+10, -1.0000e+10, -1.0000e+10, -1.0000e+10,\n",
      "        -1.0000e+10, -1.0000e+10, -1.0000e+10, -1.0000e+10, -1.0000e+10,\n",
      "        -1.0000e+10, -1.0000e+10, -1.0000e+10, -1.0000e+10, -1.0000e+10,\n",
      "        -1.0000e+10, -1.0000e+10, -1.0000e+10, -1.0000e+10, -1.0000e+10,\n",
      "        -1.0000e+10, -1.0000e+10, -1.0000e+10, -1.0000e+10, -1.0000e+10,\n",
      "        -1.0000e+10, -1.0000e+10, -1.0000e+10, -1.0000e+10, -1.0000e+10,\n",
      "        -1.0000e+10, -1.0000e+10, -1.0000e+10, -1.0000e+10, -1.0000e+10,\n",
      "        -1.0000e+10, -1.0000e+10, -1.0000e+10, -1.0000e+10, -1.0000e+10,\n",
      "        -1.0000e+10, -1.0000e+10, -1.0000e+10, -1.0000e+10, -1.0000e+10,\n",
      "        -1.0000e+10, -1.0000e+10, -1.0000e+10, -1.0000e+10, -1.0000e+10,\n",
      "        -1.0000e+10, -1.0000e+10, -1.0000e+10, -1.0000e+10, -1.0000e+10],\n",
      "       grad_fn=<SelectBackward0>)\n",
      "5\n",
      "\n",
      "The teacher had John kicked out of class. He kept laughing.\n",
      "A Prob 4.821913535124622e-09\n",
      "B Prob 6.027719656742647e-09\n",
      "Prob Diff 1.205806121618025e-09\n",
      "tensor([ 1.2168e-12,  2.6635e-11,  3.6951e-17,  6.0277e-09,  1.5128e-15,\n",
      "         2.3294e-14,  3.5547e-13,  6.2831e-09,  1.8107e-12,  4.8219e-09,\n",
      "         5.1755e-17,  2.7397e-15,  1.0827e-12,  9.3781e-16,  8.7317e-15,\n",
      "         3.2356e-09,  6.1844e-12,  4.9510e-14,  4.4804e-15,  4.2070e-16,\n",
      "         6.5081e-13,  4.5489e-16,  2.0530e-10,  1.1760e-11,  3.4710e-12,\n",
      "         6.1283e-16,  1.2091e-15,  3.3771e-13,  6.7057e-12,  2.7529e-13,\n",
      "         7.4410e-13,  1.5359e-15,  5.0319e-16,  4.3398e-09,  1.0090e-14,\n",
      "         1.8954e-12,  6.8199e-16,  2.5091e-11,  7.4771e-12,  5.7944e-13,\n",
      "         2.0803e-11,  7.8568e-15,  7.9937e-09,  2.0649e-14,  1.0000e+00,\n",
      "        -1.0000e+10, -1.0000e+10, -1.0000e+10, -1.0000e+10, -1.0000e+10,\n",
      "        -1.0000e+10, -1.0000e+10, -1.0000e+10, -1.0000e+10, -1.0000e+10],\n",
      "       grad_fn=<SelectBackward0>)\n",
      "44\n",
      "\n",
      "John kept making Dan laugh, which got him in trouble.\n",
      "A Prob 1.102911859740931e-15\n",
      "B Prob 7.898804155778531e-15\n",
      "Prob Diff 6.7958922960376e-15\n",
      "tensor([ 1.1029e-15,  9.9869e-21,  1.8412e-20,  7.8988e-15,  1.4678e-16,\n",
      "         4.7481e-19,  2.0721e-14,  1.0000e+00, -1.0000e+10, -1.0000e+10,\n",
      "        -1.0000e+10, -1.0000e+10, -1.0000e+10, -1.0000e+10, -1.0000e+10,\n",
      "        -1.0000e+10, -1.0000e+10, -1.0000e+10, -1.0000e+10, -1.0000e+10,\n",
      "        -1.0000e+10, -1.0000e+10, -1.0000e+10, -1.0000e+10, -1.0000e+10,\n",
      "        -1.0000e+10, -1.0000e+10, -1.0000e+10, -1.0000e+10, -1.0000e+10,\n",
      "        -1.0000e+10, -1.0000e+10, -1.0000e+10, -1.0000e+10, -1.0000e+10,\n",
      "        -1.0000e+10, -1.0000e+10, -1.0000e+10, -1.0000e+10, -1.0000e+10,\n",
      "        -1.0000e+10, -1.0000e+10, -1.0000e+10, -1.0000e+10, -1.0000e+10,\n",
      "        -1.0000e+10, -1.0000e+10, -1.0000e+10, -1.0000e+10, -1.0000e+10,\n",
      "        -1.0000e+10, -1.0000e+10, -1.0000e+10, -1.0000e+10, -1.0000e+10,\n",
      "        -1.0000e+10, -1.0000e+10, -1.0000e+10, -1.0000e+10, -1.0000e+10,\n",
      "        -1.0000e+10, -1.0000e+10, -1.0000e+10, -1.0000e+10, -1.0000e+10,\n",
      "        -1.0000e+10, -1.0000e+10, -1.0000e+10, -1.0000e+10, -1.0000e+10,\n",
      "        -1.0000e+10, -1.0000e+10, -1.0000e+10, -1.0000e+10, -1.0000e+10],\n",
      "       grad_fn=<SelectBackward0>)\n",
      "7\n",
      "\n",
      "The firemen arrived before the police. They were located much closer.\n",
      "A Prob 2.4887887661861896e-07\n",
      "B Prob 4.4537555368151516e-06\n",
      "Prob Diff 4.204876859148499e-06\n",
      "tensor([ 1.7467e-11,  3.7665e-08,  4.1934e-14,  1.0224e-12,  2.0072e-08,\n",
      "         9.7201e-08,  1.4532e-09,  2.4888e-07,  5.6836e-12,  4.5001e-15,\n",
      "         8.4169e-14,  4.4538e-06,  2.9843e-09,  6.6136e-09,  8.1927e-13,\n",
      "         4.3255e-16,  7.8310e-11,  5.9840e-07,  6.8435e-10,  9.0446e-14,\n",
      "         3.0481e-13,  3.6383e-11,  8.3087e-11,  4.1804e-11,  2.2204e-13,\n",
      "         2.1419e-08,  4.0044e-11,  9.9999e-01, -1.0000e+10, -1.0000e+10,\n",
      "        -1.0000e+10, -1.0000e+10, -1.0000e+10, -1.0000e+10, -1.0000e+10,\n",
      "        -1.0000e+10, -1.0000e+10, -1.0000e+10, -1.0000e+10, -1.0000e+10,\n",
      "        -1.0000e+10, -1.0000e+10, -1.0000e+10, -1.0000e+10, -1.0000e+10,\n",
      "        -1.0000e+10, -1.0000e+10, -1.0000e+10, -1.0000e+10],\n",
      "       grad_fn=<SelectBackward0>)\n",
      "27\n",
      "\n",
      "The woman helped her daughter. She was really kind.\n",
      "A Prob 1.1717204984051932e-08\n",
      "B Prob 1.8039324913843302e-06\n",
      "Prob Diff 1.7922152437677141e-06\n",
      "tensor([ 9.8142e-11,  1.5591e-11,  3.4525e-16,  2.4644e-06,  1.7109e-08,\n",
      "         3.4806e-12,  1.1717e-08,  6.2241e-17,  3.2138e-13,  1.8039e-06,\n",
      "         1.3379e-11,  5.5014e-13,  9.3549e-14,  7.7930e-12,  1.9760e-08,\n",
      "         3.4781e-10,  1.2617e-12,  2.2373e-13,  4.4559e-09,  5.2732e-14,\n",
      "         1.0000e+00, -1.0000e+10, -1.0000e+10, -1.0000e+10, -1.0000e+10,\n",
      "        -1.0000e+10, -1.0000e+10, -1.0000e+10, -1.0000e+10, -1.0000e+10,\n",
      "        -1.0000e+10, -1.0000e+10, -1.0000e+10, -1.0000e+10, -1.0000e+10,\n",
      "        -1.0000e+10], grad_fn=<SelectBackward0>)\n",
      "20\n",
      "\n"
     ]
    }
   ],
   "source": [
    "df = pd.read_excel(\"../data/gap/MY_DATASET.xlsx\")\n",
    "n = len(df) - 4\n",
    "\n",
    "X_train = np.zeros((n,3))\n",
    "y_train = np.zeros(n)\n",
    "\n",
    "# for index, row in df.sample(frac=1).iterrows():\n",
    "for index, row in df.iloc[0:n].iterrows():\n",
    "    spacy_doc = nlp(row['Text'])\n",
    "    doc = Document(tokens=[token.text for token in spacy_doc], speakers=[\"-\" for token in spacy_doc],\n",
    "               corefs=[], raw_text=None, filename=None, sentences=None)\n",
    "    # spans, probs, g_clusters, r_clusters, p_clusters = trainer.predict_clusters(doc)\n",
    "    spans, probs  = trainer.predict_clusters(doc)\n",
    "    span_tokens = [(idx, doc.tokens[span.i1:span.i2 + 1]) for idx, span in enumerate(spans)]\n",
    "    a_span_tokens = [span_token for span_token in span_tokens if \" \".join(span_token[1]) == row[\"A\"]][0]\n",
    "    b_span_tokens = [span_token for span_token in span_tokens if \" \".join(span_token[1]) == row[\"B\"]][0]\n",
    "    p_span_tokens = [span_token for span_token in span_tokens if \" \".join(span_token[1]) == row[\"Pronoun\"]][0]\n",
    "\n",
    "    ap_prob = probs[p_span_tokens[0]-1, a_span_tokens[0]]\n",
    "    bp_prob = probs[p_span_tokens[0]-1, b_span_tokens[0]]\n",
    "    diff_prob = abs(ap_prob - bp_prob)\n",
    "    print(row[\"Text\"])\n",
    "    print(\"A Prob\", ap_prob.item())\n",
    "    print(\"B Prob\", bp_prob.item())\n",
    "    print(\"Prob Diff\", diff_prob.item())\n",
    "    print(probs[p_span_tokens[0]-1])\n",
    "    print(torch.argmax(probs[p_span_tokens[0]-1]).item())\n",
    "    print()\n",
    "\n",
    "    if row[\"IsPoor\"]:\n",
    "        y_train[index] = 1\n",
    "\n",
    "    X_train[index, 0] = diff_prob\n",
    "    X_train[index, 1] = ap_prob\n",
    "    X_train[index, 2] = bp_prob"
   ],
   "metadata": {
    "collapsed": false,
    "pycharm": {
     "name": "#%%\n"
    }
   }
  },
  {
   "cell_type": "code",
   "execution_count": 6,
   "outputs": [
    {
     "name": "stdout",
     "output_type": "stream",
     "text": [
      "The King threw out his servant. He was going crazy.\n",
      "Diff Prob 0.0001432795252185315\n",
      "B Prob 3.93009941035416e-06\n",
      "A Prob 0.00014720961917191744\n",
      "\n",
      "The King gave his servant a ring. He really deserved it.\n",
      "Diff Prob 3.9665172835157136e-07\n",
      "B Prob 8.731723255550605e-08\n",
      "A Prob 4.839689609070774e-07\n",
      "\n",
      "The man took his friend to the beach. He really enjoyed it.\n",
      "Diff Prob 3.6521278161671944e-06\n",
      "B Prob 3.629053253462189e-07\n",
      "A Prob 4.0150330278265756e-06\n",
      "\n",
      "The man and his friend went to the beach. He really enjoyed it.\n",
      "Diff Prob 2.1952871975372545e-05\n",
      "B Prob 1.7909380858327495e-06\n",
      "A Prob 2.374381074332632e-05\n",
      "\n",
      "The truck overtook the car. It was driving dangerously.\n",
      "Diff Prob 1.8290065781911835e-06\n",
      "B Prob 1.846906116043101e-06\n",
      "A Prob 3.6759126942342846e-06\n",
      "\n",
      "The truck raced passed the car. It was driving dangerously.\n",
      "Diff Prob 2.2194481061887927e-06\n",
      "B Prob 1.4610240839374455e-07\n",
      "A Prob 2.365550471949973e-06\n",
      "\n",
      "The teenagers refused to speak to the owners. They were really rude.\n",
      "Diff Prob 1.1854707736347336e-05\n",
      "B Prob 1.065321626469995e-07\n",
      "A Prob 1.1961239579250105e-05\n",
      "\n",
      "The city councilmen refused to talk to the extremists. They were very rude.\n",
      "Diff Prob 0.0001398297172272578\n",
      "B Prob 3.2599255064269528e-06\n",
      "A Prob 0.00014308963727671653\n",
      "\n",
      "Paul planned to call George but he was always busy.\n",
      "Diff Prob 9.809984824471485e-09\n",
      "B Prob 9.978272652588771e-10\n",
      "A Prob 1.080781242279727e-08\n",
      "\n",
      "Paul tried to call George but he was always busy.\n",
      "Diff Prob 6.6496368411606e-09\n",
      "B Prob 1.4253793700902406e-09\n",
      "A Prob 8.07501621125084e-09\n",
      "\n",
      "The teacher had John kicked out of class. He kept laughing.\n",
      "Diff Prob 1.205806121618025e-09\n",
      "B Prob 4.821913535124622e-09\n",
      "A Prob 6.027719656742647e-09\n",
      "\n",
      "John kept making Dan laugh, which got him in trouble.\n",
      "Diff Prob 6.7958922960376e-15\n",
      "B Prob 1.102911859740931e-15\n",
      "A Prob 7.898804155778531e-15\n",
      "\n",
      "The firemen arrived before the police. They were located much closer.\n",
      "Diff Prob 4.204876859148499e-06\n",
      "B Prob 2.4887887661861896e-07\n",
      "A Prob 4.4537555368151516e-06\n",
      "\n",
      "The woman helped her daughter. She was really kind.\n",
      "Diff Prob 1.7922152437677141e-06\n",
      "B Prob 1.1717204984051932e-08\n",
      "A Prob 1.8039324913843302e-06\n",
      "\n"
     ]
    }
   ],
   "source": [
    "for index, row in df.iloc[0:n].iterrows():\n",
    "\n",
    "    print(row[\"Text\"])\n",
    "    print(\"Diff Prob\", X_train[index, 0])\n",
    "    print(\"B Prob\", X_train[index, 1])\n",
    "    print(\"A Prob\", X_train[index, 2])\n",
    "    print()"
   ],
   "metadata": {
    "collapsed": false,
    "pycharm": {
     "name": "#%%\n"
    }
   }
  },
  {
   "cell_type": "code",
   "execution_count": 7,
   "outputs": [
    {
     "name": "stdout",
     "output_type": "stream",
     "text": [
      "0.8571428571428571\n",
      "|--- A Prob <= 0.00\n",
      "|   |--- Prob Diff <= 0.00\n",
      "|   |   |--- Prob Diff <= 0.00\n",
      "|   |   |   |--- class: 0.0\n",
      "|   |   |--- Prob Diff >  0.00\n",
      "|   |   |   |--- class: 0.0\n",
      "|   |--- Prob Diff >  0.00\n",
      "|   |   |--- class: 1.0\n",
      "|--- A Prob >  0.00\n",
      "|   |--- Prob Diff <= 0.00\n",
      "|   |   |--- class: 1.0\n",
      "|   |--- Prob Diff >  0.00\n",
      "|   |   |--- B Prob <= 0.00\n",
      "|   |   |   |--- class: 0.0\n",
      "|   |   |--- B Prob >  0.00\n",
      "|   |   |   |--- class: 1.0\n",
      "\n"
     ]
    },
    {
     "data": {
      "text/plain": "<Figure size 432x504 with 1 Axes>",
      "image/png": "[encoded data removed]"
     },
     "metadata": {
      "needs_background": "light"
     },
     "output_type": "display_data"
    }
   ],
   "source": [
    "from sklearn.tree import export_text, DecisionTreeClassifier\n",
    "import matplotlib.pyplot as plt\n",
    "from sklearn import tree\n",
    "\n",
    "clf = DecisionTreeClassifier(max_depth=3)\n",
    "clf.fit(X_train, y_train)\n",
    "\n",
    "print(clf.score(X_train, y_train))\n",
    "feature_names = [\"Prob Diff\", \"A Prob\", \"B Prob\"]\n",
    "tree_rules = export_text(clf, feature_names=feature_names)\n",
    "# print the result\n",
    "print(tree_rules)\n",
    "fig = plt.figure(figsize=(6,7))\n",
    "_ = tree.plot_tree(clf, feature_names=feature_names, class_names=[\"Good\",\"Poor\"], filled=True)"
   ],
   "metadata": {
    "collapsed": false,
    "pycharm": {
     "name": "#%%\n"
    }
   }
  },
  {
   "cell_type": "code",
   "execution_count": 8,
   "outputs": [
    {
     "data": {
      "text/plain": "array([0.52, 0.28, 0.2 ])"
     },
     "execution_count": 8,
     "metadata": {},
     "output_type": "execute_result"
    }
   ],
   "source": [
    "clf.feature_importances_"
   ],
   "metadata": {
    "collapsed": false,
    "pycharm": {
     "name": "#%%\n"
    }
   }
  },
  {
   "cell_type": "code",
   "execution_count": 9,
   "outputs": [
    {
     "name": "stdout",
     "output_type": "stream",
     "text": [
      "0.6428571428571429\n",
      "|--- Prob Diff <= 0.00\n",
      "|   |--- class: 0.0\n",
      "|--- Prob Diff >  0.00\n",
      "|   |--- class: 1.0\n",
      "\n"
     ]
    },
    {
     "data": {
      "text/plain": "<Figure size 1440x216 with 1 Axes>",
      "image/png": "[encoded data removed]"
     },
     "metadata": {
      "needs_background": "light"
     },
     "output_type": "display_data"
    }
   ],
   "source": [
    "X_train_diff = X_train[:, [0]]\n",
    "y_train_diff = y_train\n",
    "\n",
    "clf_diff = DecisionTreeClassifier(max_depth=1)\n",
    "clf_diff.fit(X_train_diff, y_train_diff)\n",
    "print(clf_diff.score(X_train_diff, y_train_diff))\n",
    "\n",
    "feature_names = [\"Prob Diff\"]\n",
    "tree_rules_diff = export_text(clf_diff, feature_names=feature_names)\n",
    "print(tree_rules_diff)\n",
    "fig_diff = plt.figure(figsize=(20,3))\n",
    "_ = tree.plot_tree(clf_diff, feature_names=feature_names, class_names=[\"Good\",\"Poor\"])"
   ],
   "metadata": {
    "collapsed": false,
    "pycharm": {
     "name": "#%%\n"
    }
   }
  },
  {
   "cell_type": "code",
   "execution_count": 29,
   "outputs": [
    {
     "name": "stdout",
     "output_type": "stream",
     "text": [
      "0.6122448979591837\n"
     ]
    },
    {
     "data": {
      "text/plain": "<Figure size 432x288 with 1 Axes>",
      "image/png": "[encoded data removed]"
     },
     "metadata": {
      "needs_background": "light"
     },
     "output_type": "display_data"
    }
   ],
   "source": [
    "from sklearn.metrics import roc_auc_score, roc_curve, confusion_matrix, auc\n",
    "\n",
    "print(roc_auc_score(y_train_diff, X_train_diff))\n",
    "fpr, tpr, _ = roc_curve(y_train_diff, X_train_diff)\n",
    "lw = 2\n",
    "plt.plot(fpr, tpr, color=\"orange\", lw=lw, linestyle=\"solid\")\n",
    "plt.plot([0, 1], [0, 1], color=\"navy\", lw=lw, linestyle=\"--\")\n",
    "plt.xlabel('False Positive Rate')\n",
    "plt.ylabel('True Positive Rate')\n",
    "plt.savefig('thresholdclassification.png',dpi=600)\n",
    "plt.show()"
   ],
   "metadata": {
    "collapsed": false,
    "pycharm": {
     "name": "#%%\n"
    }
   }
  },
  {
   "cell_type": "code",
   "execution_count": 31,
   "outputs": [
    {
     "name": "stdout",
     "output_type": "stream",
     "text": [
      "0.2857142857142857 0.5714285714285714\n",
      "3.6521278161671944e-06\n"
     ]
    }
   ],
   "source": [
    "print(fpr[5], tpr[5])\n",
    "print(_[5])"
   ],
   "metadata": {
    "collapsed": false,
    "pycharm": {
     "name": "#%%\n"
    }
   }
  },
  {
   "cell_type": "code",
   "execution_count": 32,
   "outputs": [],
   "source": [
    "from sklearn.metrics import auc"
   ],
   "metadata": {
    "collapsed": false,
    "pycharm": {
     "name": "#%%\n"
    }
   }
  },
  {
   "cell_type": "code",
   "execution_count": 12,
   "outputs": [
    {
     "name": "stdout",
     "output_type": "stream",
     "text": [
      "[[7 0]\n",
      " [7 0]]\n"
     ]
    }
   ],
   "source": [
    "print(confusion_matrix(y_train_diff, X_train_diff < 0.0465,labels=[1,0]))"
   ],
   "metadata": {
    "collapsed": false,
    "pycharm": {
     "name": "#%%\n"
    }
   }
  },
  {
   "cell_type": "code",
   "execution_count": 13,
   "outputs": [
    {
     "name": "stdout",
     "output_type": "stream",
     "text": [
      "Jim and Steve had an argument. He decided to go home.\n",
      "A Prob 0.03380929306149483\n",
      "B Prob 0.24214471876621246\n",
      "Prob Diff 0.20833542943000793\n",
      "tensor([ 3.3809e-02,  2.0892e-07,  2.4214e-01,  1.4411e-08,  3.1792e-05,\n",
      "         7.2146e-08,  1.0749e-04,  8.1962e-05,  1.2260e-04,  5.1732e-07,\n",
      "         1.0271e-09,  1.0690e-03,  1.2738e-07,  2.5153e-02,  1.5203e-08,\n",
      "         3.5627e-08,  1.0054e-07,  3.7965e-03,  2.1909e-05,  1.2425e-09,\n",
      "         1.7134e-06,  3.3152e-08,  2.4988e-06,  8.5613e-08,  1.1287e-06,\n",
      "         1.0929e-04,  3.1290e-08,  2.7038e-05,  6.9352e-01, -1.0000e+10,\n",
      "        -1.0000e+10, -1.0000e+10, -1.0000e+10, -1.0000e+10, -1.0000e+10,\n",
      "        -1.0000e+10, -1.0000e+10, -1.0000e+10, -1.0000e+10, -1.0000e+10,\n",
      "        -1.0000e+10, -1.0000e+10, -1.0000e+10, -1.0000e+10, -1.0000e+10,\n",
      "        -1.0000e+10, -1.0000e+10, -1.0000e+10, -1.0000e+10],\n",
      "       grad_fn=<SelectBackward0>)\n",
      "28\n",
      "\n",
      "The boss fired the employee. He was always late to work.\n",
      "A Prob 0.02691851370036602\n",
      "B Prob 0.4300943911075592\n",
      "Prob Diff 0.40317589044570923\n",
      "tensor([ 1.8426e-04,  1.9646e-04,  1.2604e-11,  2.0671e-04,  1.0080e-03,\n",
      "         1.2359e-06,  2.6919e-02,  5.5868e-11,  1.5277e-11,  4.3009e-01,\n",
      "         5.9033e-07,  5.3009e-07,  8.0396e-11,  3.1179e-08,  2.7157e-03,\n",
      "         4.1207e-07,  9.6385e-08,  5.3928e-09,  1.4719e-04,  2.6055e-08,\n",
      "         2.6651e-05,  5.3850e-01, -1.0000e+10, -1.0000e+10, -1.0000e+10,\n",
      "        -1.0000e+10, -1.0000e+10, -1.0000e+10, -1.0000e+10, -1.0000e+10,\n",
      "        -1.0000e+10, -1.0000e+10, -1.0000e+10, -1.0000e+10, -1.0000e+10,\n",
      "        -1.0000e+10, -1.0000e+10, -1.0000e+10, -1.0000e+10, -1.0000e+10,\n",
      "        -1.0000e+10, -1.0000e+10, -1.0000e+10, -1.0000e+10, -1.0000e+10,\n",
      "        -1.0000e+10, -1.0000e+10, -1.0000e+10, -1.0000e+10],\n",
      "       grad_fn=<SelectBackward0>)\n",
      "21\n",
      "\n",
      "Jane called her roommate but she didn’t pick up. She was locked outside of her room.\n",
      "A Prob 0.0007203505956567824\n",
      "B Prob 0.00535965571179986\n",
      "Prob Diff 0.0046393051743507385\n",
      "tensor([ 7.2035e-04,  8.2278e-12,  1.2344e-01,  8.8381e-07,  8.3067e-10,\n",
      "         7.7006e-01,  6.5860e-10,  7.3639e-05,  7.7401e-08,  1.4563e-04,\n",
      "         1.5116e-04,  4.6006e-10,  1.6003e-08,  5.3597e-03,  5.0139e-11,\n",
      "         3.7334e-06,  6.3473e-06,  3.8549e-09,  5.2880e-05,  6.6993e-06,\n",
      "         6.6310e-06,  6.5745e-07,  6.7532e-08,  8.6454e-06,  1.5384e-07,\n",
      "         1.8751e-09,  3.3742e-05,  4.3162e-07,  1.4648e-03,  4.1790e-07,\n",
      "         1.7358e-06,  3.6929e-10,  6.5751e-03,  6.8815e-11,  5.1318e-09,\n",
      "         9.1728e-04,  6.5975e-05,  1.3522e-04,  2.7726e-08,  1.2209e-06,\n",
      "         1.2380e-05,  2.3084e-10,  2.1709e-07,  1.6006e-02,  2.8636e-06,\n",
      "         5.6237e-05,  5.7640e-10,  5.7818e-05,  8.2208e-09,  9.3797e-05,\n",
      "         2.7589e-03,  3.9178e-08,  1.8098e-09,  6.2685e-04,  4.0587e-06,\n",
      "         3.2433e-06,  1.8067e-07,  7.1663e-08,  1.3517e-02,  2.8076e-07,\n",
      "         6.1540e-06,  8.4441e-05,  3.7382e-03,  1.1316e-03,  2.0854e-06,\n",
      "         5.2659e-02, -1.0000e+10, -1.0000e+10, -1.0000e+10, -1.0000e+10,\n",
      "        -1.0000e+10, -1.0000e+10, -1.0000e+10, -1.0000e+10, -1.0000e+10,\n",
      "        -1.0000e+10, -1.0000e+10, -1.0000e+10, -1.0000e+10, -1.0000e+10,\n",
      "        -1.0000e+10, -1.0000e+10, -1.0000e+10, -1.0000e+10, -1.0000e+10,\n",
      "        -1.0000e+10, -1.0000e+10, -1.0000e+10, -1.0000e+10, -1.0000e+10,\n",
      "        -1.0000e+10, -1.0000e+10, -1.0000e+10, -1.0000e+10, -1.0000e+10,\n",
      "        -1.0000e+10, -1.0000e+10, -1.0000e+10, -1.0000e+10, -1.0000e+10,\n",
      "        -1.0000e+10], grad_fn=<SelectBackward0>)\n",
      "5\n",
      "\n",
      "The girl knocked on the door, and the owner answered it. She invited her to come in.\n",
      "A Prob 0.00922880694270134\n",
      "B Prob 0.19963125884532928\n",
      "Prob Diff 0.19040244817733765\n",
      "tensor([ 1.6093e-05,  8.1781e-06,  4.6149e-13,  2.6938e-14,  1.1798e-02,\n",
      "         4.0604e-09,  1.3489e-08,  6.4109e-10,  1.4790e-02,  4.4675e-05,\n",
      "         1.4316e-12,  4.0742e-01,  1.0629e-05,  9.2288e-03,  5.5865e-12,\n",
      "         1.9922e-14,  1.1171e-12,  3.4755e-04,  8.6714e-11,  1.3456e-10,\n",
      "         8.5357e-10,  1.9963e-01,  1.5652e-10,  1.3631e-07,  5.8643e-04,\n",
      "         4.5985e-07,  3.7832e-13,  9.3850e-13,  3.1690e-11,  1.2871e-04,\n",
      "         7.9385e-13,  2.3275e-10,  9.2340e-08,  5.4211e-05,  3.5164e-06,\n",
      "         1.4008e-09,  2.1665e-08,  1.4593e-11,  2.0736e-11,  1.4828e-10,\n",
      "         1.7550e-06,  1.1924e-12,  1.0163e-08,  1.0011e-08,  5.9803e-02,\n",
      "         6.2606e-08,  5.5868e-07,  3.2393e-10,  6.1191e-11,  2.2972e-12,\n",
      "         3.2068e-06,  5.8120e-11,  1.8090e-09,  8.2962e-05,  2.6010e-03,\n",
      "         1.8626e-05,  1.3159e-09,  7.1404e-13,  4.4038e-12,  1.4196e-04,\n",
      "         7.7708e-12,  3.7181e-05,  1.5674e-07,  6.2848e-05,  1.6790e-11,\n",
      "         9.9380e-13,  1.9805e-10,  2.8706e-05,  3.5015e-07,  4.4772e-08,\n",
      "         9.3579e-07,  1.5173e-11,  3.7292e-11,  2.2661e-11,  3.2027e-02,\n",
      "         7.5726e-10,  9.1159e-07,  4.9181e-10,  5.2846e-12,  1.3648e-06,\n",
      "         2.9720e-04,  2.6913e-05,  1.0052e-10,  3.2115e-07,  6.4788e-10,\n",
      "         2.6080e-01, -1.0000e+10, -1.0000e+10, -1.0000e+10, -1.0000e+10,\n",
      "        -1.0000e+10, -1.0000e+10, -1.0000e+10, -1.0000e+10, -1.0000e+10,\n",
      "        -1.0000e+10, -1.0000e+10, -1.0000e+10, -1.0000e+10, -1.0000e+10,\n",
      "        -1.0000e+10, -1.0000e+10, -1.0000e+10, -1.0000e+10, -1.0000e+10,\n",
      "        -1.0000e+10, -1.0000e+10, -1.0000e+10, -1.0000e+10, -1.0000e+10,\n",
      "        -1.0000e+10, -1.0000e+10, -1.0000e+10], grad_fn=<SelectBackward0>)\n",
      "11\n",
      "\n"
     ]
    }
   ],
   "source": [
    "df = pd.read_excel(\"../data/gap/MY_DATASET.xlsx\")\n",
    "n = len(df) - 4\n",
    "\n",
    "X_test = np.zeros((4,3))\n",
    "y_test = np.zeros(4)\n",
    "\n",
    "# for index, row in df.sample(frac=1).iterrows():\n",
    "for index, row in df.iloc[n:].iterrows():\n",
    "    spacy_doc = nlp(row['Text'])\n",
    "    doc = Document(tokens=[token.text for token in spacy_doc], speakers=[\"-\" for token in spacy_doc],\n",
    "               corefs=[], raw_text=None, filename=None, sentences=None)\n",
    "    # spans, probs, g_clusters, r_clusters, p_clusters = trainer.predict_clusters(doc)\n",
    "    spans, probs  = trainer.predict_clusters(doc)\n",
    "    span_tokens = [(idx, doc.tokens[span.i1:span.i2 + 1]) for idx, span in enumerate(spans)]\n",
    "    a_span_tokens = [span_token for span_token in span_tokens if \" \".join(span_token[1]) == row[\"A\"]][0]\n",
    "    b_span_tokens = [span_token for span_token in span_tokens if \" \".join(span_token[1]) == row[\"B\"]][0]\n",
    "    p_span_tokens = [span_token for span_token in span_tokens if \" \".join(span_token[1]) == row[\"Pronoun\"]][0]\n",
    "\n",
    "    ap_prob = probs[p_span_tokens[0], a_span_tokens[0]]\n",
    "    bp_prob = probs[p_span_tokens[0], b_span_tokens[0]]\n",
    "    diff_prob = abs(ap_prob - bp_prob)\n",
    "    print(row[\"Text\"])\n",
    "    print(\"A Prob\", ap_prob.item())\n",
    "    print(\"B Prob\", bp_prob.item())\n",
    "    print(\"Prob Diff\", diff_prob.item())\n",
    "    print(probs[p_span_tokens[0]])\n",
    "    print(torch.argmax(probs[p_span_tokens[0]]).item())\n",
    "    print()\n",
    "\n",
    "    index = index - n\n",
    "    if row[\"IsPoor\"]:\n",
    "        y_test[index] = 1\n",
    "\n",
    "    X_test[index, 0] = diff_prob\n",
    "    X_test[index, 1] = ap_prob\n",
    "    X_test[index, 2] = bp_prob"
   ],
   "metadata": {
    "collapsed": false,
    "pycharm": {
     "name": "#%%\n"
    }
   }
  },
  {
   "cell_type": "code",
   "execution_count": 14,
   "outputs": [
    {
     "data": {
      "text/plain": "array([1., 1., 1., 1.])"
     },
     "execution_count": 14,
     "metadata": {},
     "output_type": "execute_result"
    }
   ],
   "source": [
    "clf.predict(X_test)"
   ],
   "metadata": {
    "collapsed": false,
    "pycharm": {
     "name": "#%%\n"
    }
   }
  },
  {
   "cell_type": "code",
   "execution_count": 15,
   "outputs": [
    {
     "ename": "ValueError",
     "evalue": "not enough values to unpack (expected 5, got 2)",
     "output_type": "error",
     "traceback": [
      "\u001B[1;31m---------------------------------------------------------------------------\u001B[0m",
      "\u001B[1;31mValueError\u001B[0m                                Traceback (most recent call last)",
      "\u001B[1;32m~\\AppData\\Local\\Temp/ipykernel_8484/2695900830.py\u001B[0m in \u001B[0;36m<module>\u001B[1;34m\u001B[0m\n\u001B[0;32m     11\u001B[0m     doc = Document(tokens=[token.text for token in spacy_doc], speakers=[\"-\" for token in spacy_doc],\n\u001B[0;32m     12\u001B[0m                corefs=[], raw_text=None, filename=None, sentences=None)\n\u001B[1;32m---> 13\u001B[1;33m     \u001B[0mspans\u001B[0m\u001B[1;33m,\u001B[0m \u001B[0mprobs\u001B[0m\u001B[1;33m,\u001B[0m \u001B[0mg_clusters\u001B[0m\u001B[1;33m,\u001B[0m \u001B[0mr_clusters\u001B[0m\u001B[1;33m,\u001B[0m \u001B[0mp_clusters\u001B[0m \u001B[1;33m=\u001B[0m \u001B[0mtrainer\u001B[0m\u001B[1;33m.\u001B[0m\u001B[0mpredict_clusters\u001B[0m\u001B[1;33m(\u001B[0m\u001B[0mdoc\u001B[0m\u001B[1;33m)\u001B[0m\u001B[1;33m\u001B[0m\u001B[1;33m\u001B[0m\u001B[0m\n\u001B[0m\u001B[0;32m     14\u001B[0m     \u001B[0mspan_tokens\u001B[0m \u001B[1;33m=\u001B[0m \u001B[1;33m[\u001B[0m\u001B[1;33m(\u001B[0m\u001B[0midx\u001B[0m\u001B[1;33m,\u001B[0m \u001B[0mdoc\u001B[0m\u001B[1;33m.\u001B[0m\u001B[0mtokens\u001B[0m\u001B[1;33m[\u001B[0m\u001B[0mspan\u001B[0m\u001B[1;33m.\u001B[0m\u001B[0mi1\u001B[0m\u001B[1;33m:\u001B[0m\u001B[0mspan\u001B[0m\u001B[1;33m.\u001B[0m\u001B[0mi2\u001B[0m \u001B[1;33m+\u001B[0m \u001B[1;36m1\u001B[0m\u001B[1;33m]\u001B[0m\u001B[1;33m)\u001B[0m \u001B[1;32mfor\u001B[0m \u001B[0midx\u001B[0m\u001B[1;33m,\u001B[0m \u001B[0mspan\u001B[0m \u001B[1;32min\u001B[0m \u001B[0menumerate\u001B[0m\u001B[1;33m(\u001B[0m\u001B[0mspans\u001B[0m\u001B[1;33m)\u001B[0m\u001B[1;33m]\u001B[0m\u001B[1;33m\u001B[0m\u001B[1;33m\u001B[0m\u001B[0m\n\u001B[0;32m     15\u001B[0m     \u001B[0ma_span_tokens\u001B[0m \u001B[1;33m=\u001B[0m \u001B[1;33m[\u001B[0m\u001B[0mspan_token\u001B[0m \u001B[1;32mfor\u001B[0m \u001B[0mspan_token\u001B[0m \u001B[1;32min\u001B[0m \u001B[0mspan_tokens\u001B[0m \u001B[1;32mif\u001B[0m \u001B[1;34m\" \"\u001B[0m\u001B[1;33m.\u001B[0m\u001B[0mjoin\u001B[0m\u001B[1;33m(\u001B[0m\u001B[0mspan_token\u001B[0m\u001B[1;33m[\u001B[0m\u001B[1;36m1\u001B[0m\u001B[1;33m]\u001B[0m\u001B[1;33m)\u001B[0m \u001B[1;33m==\u001B[0m \u001B[0mrow\u001B[0m\u001B[1;33m[\u001B[0m\u001B[1;34m\"A\"\u001B[0m\u001B[1;33m]\u001B[0m\u001B[1;33m]\u001B[0m\u001B[1;33m[\u001B[0m\u001B[1;36m0\u001B[0m\u001B[1;33m]\u001B[0m\u001B[1;33m\u001B[0m\u001B[1;33m\u001B[0m\u001B[0m\n",
      "\u001B[1;31mValueError\u001B[0m: not enough values to unpack (expected 5, got 2)"
     ]
    }
   ],
   "source": [
    "df = pd.read_excel(\"../data/gap/MY_DATASET.xlsx\")\n",
    "n = 4\n",
    "\n",
    "X_pred = np.zeros((n,3))\n",
    "y_pred = np.zeros(n)\n",
    "\n",
    "# for index, row in df.sample(frac=1).iterrows():\n",
    "count = 0\n",
    "for index, row in df.iloc[-n:].iterrows():\n",
    "    spacy_doc = nlp(row['Text'])\n",
    "    doc = Document(tokens=[token.text for token in spacy_doc], speakers=[\"-\" for token in spacy_doc],\n",
    "               corefs=[], raw_text=None, filename=None, sentences=None)\n",
    "    spans, probs, g_clusters, r_clusters, p_clusters = trainer.predict_clusters(doc)\n",
    "    span_tokens = [(idx, doc.tokens[span.i1:span.i2 + 1]) for idx, span in enumerate(spans)]\n",
    "    a_span_tokens = [span_token for span_token in span_tokens if \" \".join(span_token[1]) == row[\"A\"]][0]\n",
    "    b_span_tokens = [span_token for span_token in span_tokens if \" \".join(span_token[1]) == row[\"B\"]][0]\n",
    "    p_span_tokens = [span_token for span_token in span_tokens if \" \".join(span_token[1]) == row[\"Pronoun\"]][0]\n",
    "\n",
    "    ap_prob = probs[p_span_tokens[0], a_span_tokens[0]]\n",
    "    bp_prob = probs[p_span_tokens[0], b_span_tokens[0]]\n",
    "    diff_prob = abs(ap_prob - bp_prob)\n",
    "    print(row[\"Text\"])\n",
    "    print(\"A Prob\", ap_prob.item())\n",
    "    print(\"B Prob\", bp_prob.item())\n",
    "    print(\"Prob Diff\", diff_prob.item())\n",
    "    print()\n",
    "\n",
    "    if row[\"IsPoor\"]:\n",
    "        y_pred[count] = 1.\n",
    "\n",
    "    X_pred[count, 0] = diff_prob\n",
    "    X_pred[count, 1] = ap_prob\n",
    "    X_pred[count, 2] = bp_prob\n",
    "\n",
    "    count += 1"
   ],
   "metadata": {
    "collapsed": false,
    "pycharm": {
     "name": "#%%\n"
    }
   }
  },
  {
   "cell_type": "code",
   "execution_count": 16,
   "outputs": [
    {
     "data": {
      "text/plain": "array([0., 0., 0., 0.])"
     },
     "execution_count": 16,
     "metadata": {},
     "output_type": "execute_result"
    }
   ],
   "source": [
    "clf.predict(X_pred)"
   ],
   "metadata": {
    "collapsed": false,
    "pycharm": {
     "name": "#%%\n"
    }
   }
  },
  {
   "cell_type": "code",
   "execution_count": 17,
   "outputs": [
    {
     "data": {
      "text/plain": "array([0., 0., 0., 0.])"
     },
     "execution_count": 17,
     "metadata": {},
     "output_type": "execute_result"
    }
   ],
   "source": [
    "y_pred"
   ],
   "metadata": {
    "collapsed": false,
    "pycharm": {
     "name": "#%%\n"
    }
   }
  },
  {
   "cell_type": "code",
   "execution_count": 18,
   "outputs": [
    {
     "data": {
      "text/plain": "array([0., 0., 0., 0.])"
     },
     "execution_count": 18,
     "metadata": {},
     "output_type": "execute_result"
    }
   ],
   "source": [
    "clf_diff.predict(X_pred[:, [0]])"
   ],
   "metadata": {
    "collapsed": false,
    "pycharm": {
     "name": "#%%\n"
    }
   }
  },
  {
   "cell_type": "code",
   "execution_count": 19,
   "outputs": [
    {
     "data": {
      "text/plain": "array([0., 0., 0., 0.])"
     },
     "execution_count": 19,
     "metadata": {},
     "output_type": "execute_result"
    }
   ],
   "source": [
    "y_pred"
   ],
   "metadata": {
    "collapsed": false,
    "pycharm": {
     "name": "#%%\n"
    }
   }
  },
  {
   "cell_type": "code",
   "execution_count": 20,
   "outputs": [
    {
     "data": {
      "text/plain": "array([False, False, False, False])"
     },
     "execution_count": 20,
     "metadata": {},
     "output_type": "execute_result"
    }
   ],
   "source": [
    "X_pred[:,0] > 0.046"
   ],
   "metadata": {
    "collapsed": false,
    "pycharm": {
     "name": "#%%\n"
    }
   }
  },
  {
   "cell_type": "code",
   "execution_count": 21,
   "outputs": [
    {
     "data": {
      "text/plain": "(array([[1.43279525e-04, 3.93009941e-06, 1.47209619e-04],\n        [3.96651728e-07, 8.73172326e-08, 4.83968961e-07],\n        [3.65212782e-06, 3.62905325e-07, 4.01503303e-06],\n        [2.19528720e-05, 1.79093809e-06, 2.37438107e-05],\n        [1.82900658e-06, 1.84690612e-06, 3.67591269e-06],\n        [2.21944811e-06, 1.46102408e-07, 2.36555047e-06],\n        [1.18547077e-05, 1.06532163e-07, 1.19612396e-05],\n        [1.39829717e-04, 3.25992551e-06, 1.43089637e-04],\n        [9.80998482e-09, 9.97827265e-10, 1.08078124e-08],\n        [6.64963684e-09, 1.42537937e-09, 8.07501621e-09],\n        [1.20580612e-09, 4.82191354e-09, 6.02771966e-09],\n        [6.79589230e-15, 1.10291186e-15, 7.89880416e-15],\n        [4.20487686e-06, 2.48878877e-07, 4.45375554e-06],\n        [1.79221524e-06, 1.17172050e-08, 1.80393249e-06]]),\n array([1., 0., 1., 1., 1., 0., 1., 0., 1., 0., 0., 1., 0., 0.]))"
     },
     "execution_count": 21,
     "metadata": {},
     "output_type": "execute_result"
    }
   ],
   "source": [
    "X_train, y_train"
   ],
   "metadata": {
    "collapsed": false,
    "pycharm": {
     "name": "#%%\n"
    }
   }
  },
  {
   "cell_type": "code",
   "execution_count": 22,
   "outputs": [
    {
     "data": {
      "text/plain": "array([[1.43279525e-04],\n       [3.96651728e-07],\n       [3.65212782e-06],\n       [2.19528720e-05],\n       [1.82900658e-06],\n       [2.21944811e-06],\n       [1.18547077e-05],\n       [1.39829717e-04],\n       [9.80998482e-09],\n       [6.64963684e-09],\n       [1.20580612e-09],\n       [6.79589230e-15],\n       [4.20487686e-06],\n       [1.79221524e-06]])"
     },
     "execution_count": 22,
     "metadata": {},
     "output_type": "execute_result"
    }
   ],
   "source": [
    "X_train_diff"
   ],
   "metadata": {
    "collapsed": false,
    "pycharm": {
     "name": "#%%\n"
    }
   }
  },
  {
   "cell_type": "code",
   "execution_count": 23,
   "outputs": [
    {
     "data": {
      "text/plain": "array([1., 0., 1., 1., 1., 0., 1., 0., 1., 0., 0., 1., 0., 0.])"
     },
     "execution_count": 23,
     "metadata": {},
     "output_type": "execute_result"
    }
   ],
   "source": [
    "y_train"
   ],
   "metadata": {
    "collapsed": false,
    "pycharm": {
     "name": "#%%\n"
    }
   }
  },
  {
   "cell_type": "code",
   "execution_count": 24,
   "outputs": [],
   "source": [
    "def calculate_number_correct(probs, targets, threshold):\n",
    "    preds = (probs >= threshold).flatten()\n",
    "    return sum(preds == targets)"
   ],
   "metadata": {
    "collapsed": false,
    "pycharm": {
     "name": "#%%\n"
    }
   }
  },
  {
   "cell_type": "code",
   "execution_count": 25,
   "outputs": [
    {
     "data": {
      "text/plain": "7"
     },
     "execution_count": 25,
     "metadata": {},
     "output_type": "execute_result"
    }
   ],
   "source": [
    "calculate_number_correct(X_train_diff, y_train, 0.05)"
   ],
   "metadata": {
    "collapsed": false,
    "pycharm": {
     "name": "#%%\n"
    }
   }
  },
  {
   "cell_type": "code",
   "execution_count": 26,
   "outputs": [
    {
     "name": "stdout",
     "output_type": "stream",
     "text": [
      "0.05\n",
      "7\n",
      "0.1\n",
      "7\n",
      "0.15000000000000002\n",
      "7\n",
      "0.2\n",
      "7\n",
      "0.25\n",
      "7\n",
      "0.30000000000000004\n",
      "7\n",
      "0.35000000000000003\n",
      "7\n",
      "0.4\n",
      "7\n",
      "0.45\n",
      "7\n"
     ]
    }
   ],
   "source": [
    "for i in range(1,10):\n",
    "    print(i*0.05)\n",
    "    print(calculate_number_correct(X_train_diff, y_train, i*0.05))"
   ],
   "metadata": {
    "collapsed": false,
    "pycharm": {
     "name": "#%%\n"
    }
   }
  },
  {
   "cell_type": "code",
   "execution_count": 26,
   "outputs": [],
   "source": [],
   "metadata": {
    "collapsed": false,
    "pycharm": {
     "name": "#%%\n"
    }
   }
  },
  {
   "cell_type": "code",
   "execution_count": 26,
   "outputs": [],
   "source": [],
   "metadata": {
    "collapsed": false,
    "pycharm": {
     "name": "#%%\n"
    }
   }
  },
  {
   "cell_type": "code",
   "execution_count": null,
   "outputs": [],
   "source": [],
   "metadata": {
    "collapsed": false,
    "pycharm": {
     "name": "#%%\n"
    }
   }
  }
 ],
 "metadata": {
  "kernelspec": {
   "display_name": "Python 3",
   "language": "python",
   "name": "python3"
  },
  "language_info": {
   "codemirror_mode": {
    "name": "ipython",
    "version": 2
   },
   "file_extension": ".py",
   "mimetype": "text/x-python",
   "name": "python",
   "nbconvert_exporter": "python",
   "pygments_lexer": "ipython2",
   "version": "2.7.6"
  }
 },
 "nbformat": 4,
 "nbformat_minor": 0
}